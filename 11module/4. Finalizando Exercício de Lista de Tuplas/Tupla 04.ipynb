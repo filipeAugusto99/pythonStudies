{
 "cells": [
  {
   "cell_type": "markdown",
   "metadata": {},
   "source": [
    "# Aplicação de Tupla - Lista de Tuplas\n",
    "\n",
    "### Estrutura:\n",
    "\n",
    "Além de casos como o do enumerate, em que usamos uma função para transformar itens em tuplas porque isso ajuda o nosso código, temos também listas de tuplas como algo comum dentro do Python."
   ]
  },
  {
   "cell_type": "raw",
   "metadata": {},
   "source": [
    "lista = [\n",
    "    tupla1,\n",
    "    tupla2,\n",
    "    tupla3,\n",
    "    ]\n",
    "    \n",
    "ou seja\n",
    "\n",
    "lista = [\n",
    "    (valor1, valor2, valor3),\n",
    "    (valor4, valor5, valor6),\n",
    "    (valor7, valor8, valor9),\n",
    "    ]"
   ]
  },
  {
   "cell_type": "markdown",
   "metadata": {},
   "source": [
    "### Exemplo:\n",
    "\n",
    "Digamos que você está analisando as vendas do Banco de Dados de um e-commerce.\n",
    "\n",
    "Em um determinado dia, você extraiu as vendas do Banco de Dados e elas vieram nesse formato:"
   ]
  },
  {
   "cell_type": "code",
   "execution_count": 2,
   "metadata": {},
   "outputs": [],
   "source": [
    "vendas = [\n",
    "    ('20/08/2020', 'iphone x', 'azul', '128gb', 350, 4000),\n",
    "    ('20/08/2020', 'iphone x', 'prata', '128gb', 1500, 4000),\n",
    "    ('20/08/2020', 'ipad', 'prata', '256gb', 127, 6000),\n",
    "    ('20/08/2020', 'ipad', 'prata', '128gb', 981, 5000),\n",
    "    ('21/08/2020', 'iphone x', 'azul', '128gb', 397, 4000),\n",
    "    ('21/08/2020', 'iphone x', 'prata', '128gb', 1017, 4000),\n",
    "    ('21/08/2020', 'ipad', 'prata', '256gb', 50, 6000),\n",
    "    ('21/08/2020', 'ipad', 'prata', '128gb', 4000, 5000),\n",
    "]"
   ]
  },
  {
   "cell_type": "markdown",
   "metadata": {},
   "source": [
    "- Qual foi o faturamento de IPhone no dia 20/08/2020?\n",
    "- Qual foi o produto mais vendido (em unidades) no dia 21/08/2020?"
   ]
  },
  {
   "cell_type": "code",
   "execution_count": 4,
   "metadata": {},
   "outputs": [
    {
     "name": "stdout",
     "output_type": "stream",
     "text": [
      "('20/08/2020', 'iphone x', 'azul', '128gb', 350, 4000)\n",
      "('20/08/2020', 'iphone x', 'prata', '128gb', 1500, 4000)\n",
      "('20/08/2020', 'ipad', 'prata', '256gb', 127, 6000)\n",
      "('20/08/2020', 'ipad', 'prata', '128gb', 981, 5000)\n",
      "('21/08/2020', 'iphone x', 'azul', '128gb', 397, 4000)\n",
      "('21/08/2020', 'iphone x', 'prata', '128gb', 1017, 4000)\n",
      "('21/08/2020', 'ipad', 'prata', '256gb', 50, 6000)\n",
      "('21/08/2020', 'ipad', 'prata', '128gb', 4000, 5000)\n"
     ]
    }
   ],
   "source": [
    "'''\n",
    "EXERCICIO 1\n",
    "faturamento = 0\n",
    "for item in vendas:\n",
    "    data, produto, cor, capacidade, unidades, valor_unitario = item \n",
    "    if produto == 'iphone x' and data == '20/08/2020':\n",
    "        faturamento += unidades * valor_unitario\n",
    "        \n",
    "\n",
    "#data, produto, cor, capacidade, unidades, valor_unitario = vendas[0]\n",
    "\n",
    "#faturamento = unidades * valor_unitario\n",
    "print('O faturamento de IPhone no dia 20/08/2020 foi de {}'.format(faturamento))\n",
    "'''\n"
   ]
  },
  {
   "cell_type": "code",
   "execution_count": 26,
   "metadata": {},
   "outputs": [
    {
     "name": "stdout",
     "output_type": "stream",
     "text": [
      "350\n",
      "1500\n",
      "127\n",
      "981\n",
      "397\n",
      "1017\n",
      "50\n",
      "4000\n",
      "O produto mais vendido em 20/08/2020 foi iphone x com 1500 unidades vendidas\n"
     ]
    }
   ],
   "source": [
    "'''\n",
    "EXERCICIO 2\n",
    "'''\n",
    "produto_mais_vendido = ''\n",
    "qtd_mais_vendido = 0\n",
    "\n",
    "\n",
    "for item in vendas:\n",
    "    data, produto, cor, capacidade, unidades, valor_unitario = item\n",
    "\n",
    "    if unidades > qtd_mais_vendido and data == '20/08/2020':\n",
    "        qtd_mais_vendido = unidades\n",
    "        produto_mais_vendido = produto\n",
    "    \n",
    "print(f'O produto mais vendido em 20/08/2020 foi {produto_mais_vendido} com {mais_vendido} unidades vendidas')\n",
    "    "
   ]
  },
  {
   "cell_type": "code",
   "execution_count": null,
   "metadata": {},
   "outputs": [],
   "source": []
  }
 ],
 "metadata": {
  "kernelspec": {
   "display_name": "Python 3 (ipykernel)",
   "language": "python",
   "name": "python3"
  },
  "language_info": {
   "codemirror_mode": {
    "name": "ipython",
    "version": 3
   },
   "file_extension": ".py",
   "mimetype": "text/x-python",
   "name": "python",
   "nbconvert_exporter": "python",
   "pygments_lexer": "ipython3",
   "version": "3.13.5"
  }
 },
 "nbformat": 4,
 "nbformat_minor": 4
}
