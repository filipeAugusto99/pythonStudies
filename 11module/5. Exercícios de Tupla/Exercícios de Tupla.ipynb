{
 "cells": [
  {
   "cell_type": "markdown",
   "metadata": {},
   "source": [
    "# Exercícios\n",
    "\n",
    "São exercícios bem parecidos com os que fizemos com listas. Mas na tupla, podemos não só trabalhar com índices, mas fazer o \"unpacking\" das tuplas, o que pode facilitar nossos códigos.\n",
    "\n",
    "## 1. Análise de Vendas\n",
    "\n",
    "Nesse exercício vamos fazer uma \"análise simples\" de atingimento de Meta.\n",
    "\n",
    "Temos uma lista com os vendedores e os valores de vendas e queremos identificar (printar) quais os vendedores que bateram a meta e qual foi o valor que eles venderam."
   ]
  },
  {
   "cell_type": "code",
   "execution_count": 19,
   "metadata": {},
   "outputs": [
    {
     "name": "stdout",
     "output_type": "stream",
     "text": [
      "O vendedor: João, bateu a meta, com R$15000\n",
      "O vendedor: Julia, bateu a meta, com R$27000\n",
      "O vendedor: Ana, bateu a meta, com R$10300\n"
     ]
    }
   ],
   "source": [
    "meta = 10000\n",
    "vendas = [\n",
    "    ('João', 15000),\n",
    "    ('Julia', 27000),\n",
    "    ('Marcus', 9900),\n",
    "    ('Maria', 3750),\n",
    "    ('Ana', 10300),\n",
    "    ('Alon', 7870),\n",
    "]\n",
    "\n",
    "for itens in vendas:\n",
    "    vendedor, valor = itens\n",
    "    \n",
    "    if valor >= meta:\n",
    "        print(f'O vendedor: {vendedor}, bateu a meta, com R${valor}')"
   ]
  },
  {
   "cell_type": "markdown",
   "metadata": {},
   "source": [
    "## 2. Comparação com Ano Anterior\n",
    "\n",
    "Digamos que você está analisando as vendas de produtos de um ecommerce e quer identificar quais produtos tiveram no ano de 2020 mais vendas do que no ano de 2019, para reportar isso para a diretoria.\n",
    "\n",
    "Sua resposta pode ser um print de cada produto, qual foi a venda de 2019, a venda de 2020 e o % de crescimento de 2020 para 2019.\n",
    "\n",
    "Lembrando, para calcular o % de crescimento de um produto de um ano para o outro, podemos fazer: (vendas_produto2020/vendas_produto2019 - 1)\n",
    "\n",
    "A lógica da tupla é: (produto, vendas2019, vendas2020)"
   ]
  },
  {
   "cell_type": "code",
   "execution_count": 31,
   "metadata": {},
   "outputs": [
    {
     "name": "stdout",
     "output_type": "stream",
     "text": [
      "Produto iphone vendeu em 2019 um total de 558147 unidades e em 2020 um total de 951642 com um crescimento de 58.7%\n",
      "Produto galaxy vendeu em 2019 um total de 712350 unidades e em 2020 um total de 244295 com um crescimento de 291.6%\n",
      "Produto ipad vendeu em 2019 um total de 573823 unidades e em 2020 um total de 26964 com um crescimento de 2128.2%\n",
      "Produto tv vendeu em 2019 um total de 405252 unidades e em 2020 um total de 787604 com um crescimento de 51.5%\n",
      "Produto máquina de café vendeu em 2019 um total de 718654 unidades e em 2020 um total de 867660 com um crescimento de 82.8%\n",
      "Produto kindle vendeu em 2019 um total de 531580 unidades e em 2020 um total de 78830 com um crescimento de 674.3%\n",
      "Produto geladeira vendeu em 2019 um total de 973139 unidades e em 2020 um total de 710331 com um crescimento de 137.0%\n",
      "Produto adega vendeu em 2019 um total de 892292 unidades e em 2020 um total de 646016 com um crescimento de 138.1%\n",
      "Produto notebook dell vendeu em 2019 um total de 422760 unidades e em 2020 um total de 694913 com um crescimento de 60.8%\n",
      "Produto notebook hp vendeu em 2019 um total de 154753 unidades e em 2020 um total de 539704 com um crescimento de 28.7%\n",
      "Produto notebook asus vendeu em 2019 um total de 887061 unidades e em 2020 um total de 324831 com um crescimento de 273.1%\n",
      "Produto microsoft surface vendeu em 2019 um total de 438508 unidades e em 2020 um total de 667179 com um crescimento de 65.7%\n",
      "Produto webcam vendeu em 2019 um total de 237467 unidades e em 2020 um total de 295633 com um crescimento de 80.3%\n",
      "Produto caixa de som vendeu em 2019 um total de 489705 unidades e em 2020 um total de 725316 com um crescimento de 67.5%\n",
      "Produto microfone vendeu em 2019 um total de 328311 unidades e em 2020 um total de 644622 com um crescimento de 50.9%\n",
      "Produto câmera canon vendeu em 2019 um total de 591120 unidades e em 2020 um total de 994303 com um crescimento de 59.5%\n"
     ]
    }
   ],
   "source": [
    "vendas_produtos = [('iphone', 558147, 951642), ('galaxy', 712350, 244295), ('ipad', 573823, 26964), ('tv', 405252, 787604), ('máquina de café', 718654, 867660), ('kindle', 531580, 78830), ('geladeira', 973139, 710331), ('adega', 892292, 646016), ('notebook dell', 422760, 694913), ('notebook hp', 154753, 539704), ('notebook asus', 887061, 324831), ('microsoft surface', 438508, 667179), ('webcam', 237467, 295633), ('caixa de som', 489705, 725316), ('microfone', 328311, 644622), ('câmera canon', 591120, 994303)]\n",
    "\n",
    "for produtos, vendas_2019, vendas_2020 in vendas_produtos:\n",
    "    if vendas_2020 > vendas_2019:\n",
    "        crescimento = vendas_2019 / (vendas_2020 - 1)\n",
    "        print(f'Produto {produtos} vendeu em 2019 um total de {vendas_2019} unidades e em 2020 um total de {vendas_2020} com um crescimento de {crescimento:.1%}')"
   ]
  }
 ],
 "metadata": {
  "kernelspec": {
   "display_name": "Python 3 (ipykernel)",
   "language": "python",
   "name": "python3"
  },
  "language_info": {
   "codemirror_mode": {
    "name": "ipython",
    "version": 3
   },
   "file_extension": ".py",
   "mimetype": "text/x-python",
   "name": "python",
   "nbconvert_exporter": "python",
   "pygments_lexer": "ipython3",
   "version": "3.13.5"
  }
 },
 "nbformat": 4,
 "nbformat_minor": 4
}
