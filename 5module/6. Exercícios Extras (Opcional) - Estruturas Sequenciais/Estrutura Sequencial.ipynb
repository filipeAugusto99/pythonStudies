{
 "cells": [
  {
   "cell_type": "markdown",
   "id": "bb0f9514",
   "metadata": {
    "id": "bb0f9514"
   },
   "source": [
    "# Lista de Estrutura Sequencial"
   ]
  },
  {
   "cell_type": "markdown",
   "id": "4e7a8c30",
   "metadata": {
    "id": "4e7a8c30"
   },
   "source": [
    "#### 1. Faça um Programa que mostre a mensagem (print) \"Alo mundo\" na tela."
   ]
  },
  {
   "cell_type": "code",
   "execution_count": 1,
   "id": "883bfe85",
   "metadata": {
    "id": "883bfe85"
   },
   "outputs": [
    {
     "name": "stdout",
     "output_type": "stream",
     "text": [
      "Alo mundo\n"
     ]
    }
   ],
   "source": [
    "print(\"Alo mundo\")"
   ]
  },
  {
   "cell_type": "markdown",
   "id": "71d6d6a2",
   "metadata": {
    "id": "71d6d6a2"
   },
   "source": [
    "#### 2. Faça um Programa que peça um número (input) e então mostre a mensagem: \"O número informado foi [número].\""
   ]
  },
  {
   "cell_type": "code",
   "execution_count": null,
   "id": "30cfffcf",
   "metadata": {
    "id": "30cfffcf"
   },
   "outputs": [],
   "source": [
    "numero = input(\"Digite um numero: \")\n",
    "print(f\"O numero informado foi [{numero}]\")"
   ]
  },
  {
   "cell_type": "markdown",
   "id": "c5e43160",
   "metadata": {
    "id": "c5e43160"
   },
   "source": [
    "#### 3. Faça um Programa que peça dois números e imprima a soma."
   ]
  },
  {
   "cell_type": "code",
   "execution_count": 14,
   "id": "b0e79590",
   "metadata": {
    "id": "b0e79590"
   },
   "outputs": [
    {
     "name": "stdin",
     "output_type": "stream",
     "text": [
      "Digite o primeiro numero:  1000\n",
      "Digite o segundo numero>  500\n"
     ]
    },
    {
     "name": "stdout",
     "output_type": "stream",
     "text": [
      "SOMA: 1500\n"
     ]
    }
   ],
   "source": [
    "primeiro_numero = int(input(\"Digite o primeiro numero: \"))\n",
    "segundo_numero = int(input(\"Digite o segundo numero> \"))\n",
    "soma = primeiro_numero + segundo_numero\n",
    "print(f\"SOMA: {soma}\")"
   ]
  },
  {
   "cell_type": "markdown",
   "id": "17826987",
   "metadata": {
    "id": "17826987"
   },
   "source": [
    "#### 4. Faça um Programa que peça as 4 notas bimestrais de um aluno e mostre a média de todas as notas."
   ]
  },
  {
   "cell_type": "code",
   "execution_count": 20,
   "id": "23b66762",
   "metadata": {
    "id": "23b66762"
   },
   "outputs": [
    {
     "name": "stdin",
     "output_type": "stream",
     "text": [
      "NOTA 1:  0\n",
      "NOTA 2:  0\n",
      "NOTA 3:  9\n",
      "NOTA 4:  9\n"
     ]
    },
    {
     "name": "stdout",
     "output_type": "stream",
     "text": [
      "MEDIA DAS NOTAS: 4.5\n",
      "<class 'float'>\n"
     ]
    }
   ],
   "source": [
    "nota_1 = float(input(\"NOTA 1: \"))\n",
    "nota_2 = float(input(\"NOTA 2: \"))\n",
    "nota_3 = float(input(\"NOTA 3: \"))\n",
    "nota_4 = float(input(\"NOTA 4: \"))\n",
    "\n",
    "media = (nota_1 + nota_2 + nota_3 + nota_4) / 4\n",
    "\n",
    "print(f\"MEDIA DAS NOTAS: {media}\")\n",
    "print(type(media))"
   ]
  },
  {
   "cell_type": "markdown",
   "id": "62d461c5",
   "metadata": {
    "id": "62d461c5"
   },
   "source": [
    "#### 5. Faça um Programa que converta metros para centímetros. Você pode pedir o comprimento em metros para o usuário (input)."
   ]
  },
  {
   "cell_type": "code",
   "execution_count": 24,
   "id": "d642f1ba",
   "metadata": {
    "id": "d642f1ba"
   },
   "outputs": [
    {
     "name": "stdin",
     "output_type": "stream",
     "text": [
      "Me forneça o comprimento em metros(m) 100\n"
     ]
    },
    {
     "name": "stdout",
     "output_type": "stream",
     "text": [
      "CENTIMETROS: 10000.0, METROSFORNECIDOS 100.0\n"
     ]
    }
   ],
   "source": [
    "metrosParaCent = float(input(\"Me forneça o comprimento em metros(m)\"))\n",
    "\n",
    "centimetros = metrosParaCent * (10 ** 2)\n",
    "\n",
    "print(f\"CENTIMETROS: {centimetros}, METROSFORNECIDOS {metrosParaCent}\")"
   ]
  },
  {
   "cell_type": "markdown",
   "id": "f1311697",
   "metadata": {
    "id": "f1311697"
   },
   "source": [
    "#### 6. Faça um Programa que calcule a área de uma sala de um apartamento. Para isso, o seu programa precisa pedir a largura da sala, o comprimento da sala e imprimir a área em m² da sala."
   ]
  },
  {
   "cell_type": "code",
   "execution_count": 25,
   "id": "612ea24b",
   "metadata": {
    "id": "612ea24b"
   },
   "outputs": [
    {
     "name": "stdin",
     "output_type": "stream",
     "text": [
      "LARGURA:  5\n",
      "COMPRIMENTO:  6\n"
     ]
    },
    {
     "name": "stdout",
     "output_type": "stream",
     "text": [
      "AREA DA SALA: 30.0m²\n"
     ]
    }
   ],
   "source": [
    "largura = float(input(\"LARGURA: \"))\n",
    "comprimento = float(input(\"COMPRIMENTO: \"))\n",
    "area = largura * comprimento\n",
    "\n",
    "print(f\"AREA DA SALA: {area}m²\")"
   ]
  },
  {
   "cell_type": "markdown",
   "id": "2a285929",
   "metadata": {
    "id": "2a285929"
   },
   "source": [
    "#### 7. Faça um Programa que pergunte quanto você ganha por hora e o número de horas trabalhadas no mês. Calcule e mostre o total do seu salário no referido mês."
   ]
  },
  {
   "cell_type": "code",
   "execution_count": 28,
   "id": "359e2232",
   "metadata": {
    "id": "359e2232"
   },
   "outputs": [
    {
     "name": "stdin",
     "output_type": "stream",
     "text": [
      "GANHOS POR HORA:  8.89\n",
      "HORAS TRABALHADAS MES:  180\n"
     ]
    },
    {
     "name": "stdout",
     "output_type": "stream",
     "text": [
      "SALARIO DO MES: R$1600.2\n"
     ]
    }
   ],
   "source": [
    "ganho_por_hora = float(input(\"GANHOS POR HORA: \"))\n",
    "numero_horas_trabalhadas = float(input(\"HORAS TRABALHADAS MES: \"))\n",
    "\n",
    "salario = ganho_por_hora * numero_horas_trabalhadas\n",
    "print(f\"SALARIO DO MES: R${salario}\")"
   ]
  },
  {
   "cell_type": "markdown",
   "id": "7e2d4615",
   "metadata": {
    "id": "7e2d4615"
   },
   "source": [
    "#### 8. Vamos criar um conversor de temperatura. Faça um Programa que peça a temperatura em graus Fahrenheit, transforme e mostre a temperatura em graus Celsius.\n",
    "$C = \\frac{5}{9}(F-32)$"
   ]
  },
  {
   "cell_type": "code",
   "execution_count": 30,
   "id": "82daf9fd",
   "metadata": {
    "id": "82daf9fd"
   },
   "outputs": [
    {
     "name": "stdin",
     "output_type": "stream",
     "text": [
      "FORNECA A TEMPERATURA EM FAHRENHEIT:  212\n"
     ]
    },
    {
     "name": "stdout",
     "output_type": "stream",
     "text": [
      "TEMPERATURA EM GRAUS CELSIUS 100.0 C°\n"
     ]
    }
   ],
   "source": [
    "fahrenheit = int(input(\"FORNECA A TEMPERATURA EM FAHRENHEIT: \"))\n",
    "\n",
    "celsius = (5 / 9) * (fahrenheit - 32)\n",
    "\n",
    "print(f\"TEMPERATURA EM GRAUS CELSIUS {celsius} C°\")"
   ]
  },
  {
   "cell_type": "markdown",
   "id": "20708b1c",
   "metadata": {
    "id": "20708b1c"
   },
   "source": [
    "#### 9. Faça um Programa que peça a temperatura em graus Celsius, transforme e mostre em graus Fahrenheit.\n",
    "$F = \\frac{9}{5}C + 32$"
   ]
  },
  {
   "cell_type": "code",
   "execution_count": 9,
   "id": "c73cfb38",
   "metadata": {
    "id": "c73cfb38"
   },
   "outputs": [
    {
     "name": "stdin",
     "output_type": "stream",
     "text": [
      "FORNECA A TEMPERATURA EM CELSIUS:  0\n"
     ]
    },
    {
     "name": "stdout",
     "output_type": "stream",
     "text": [
      "TEMPERATURA EM GRAUS FAHRENHEIT 32.0 F°\n"
     ]
    }
   ],
   "source": [
    "celsius = int(input('FORNECA A TEMPERATURA EM CELSIUS: '))\n",
    "\n",
    "fahrenheit = ((9 / 5) *celsius) + 32\n",
    "\n",
    "print(f'TEMPERATURA EM GRAUS FAHRENHEIT {fahrenheit} F°')\n",
    "              "
   ]
  },
  {
   "cell_type": "markdown",
   "id": "b263a9dc",
   "metadata": {
    "id": "b263a9dc"
   },
   "source": [
    "#### 10. Tendo como dados de entrada a altura (h) de uma pessoa, construa um algoritmo que calcule seu peso ideal, usando a seguinte fórmula:\n",
    "$P = 72,7h - 58$\n",
    "\n",
    "Lembrando que \"algoritmo\" nada mais é do que um programa, como todos os outros que você vem fazendo"
   ]
  },
  {
   "cell_type": "code",
   "execution_count": 17,
   "id": "9a9b8dca",
   "metadata": {
    "id": "9a9b8dca"
   },
   "outputs": [
    {
     "name": "stdin",
     "output_type": "stream",
     "text": [
      "Informe a sua altura:  1.65\n"
     ]
    },
    {
     "name": "stdout",
     "output_type": "stream",
     "text": [
      "Seu peso ideal é de 62.0\n"
     ]
    }
   ],
   "source": [
    "altura = float(input('Informe a sua altura: '))\n",
    "\n",
    "peso_ideal = round((72.7 * altura) - 58, 0)\n",
    "print(f'Seu peso ideal é de {peso_ideal}')"
   ]
  },
  {
   "cell_type": "markdown",
   "id": "13bb40d7",
   "metadata": {
    "id": "13bb40d7"
   },
   "source": [
    "#### 11. Tendo como dado de entrada a altura (h) de uma pessoa, construa um algoritmo que calcule seu peso ideal, utilizando as seguintes fórmulas:\n",
    "##### a. Para homens: $P = 72,7h - 58$\n",
    "##### b. Para mulheres: $P = 62,1h - 44,7$"
   ]
  },
  {
   "cell_type": "code",
   "execution_count": 21,
   "id": "bf82dc8c",
   "metadata": {
    "id": "bf82dc8c"
   },
   "outputs": [
    {
     "name": "stdin",
     "output_type": "stream",
     "text": [
      "Informe a sua altura:  1.55\n"
     ]
    },
    {
     "name": "stdout",
     "output_type": "stream",
     "text": [
      "Peso ideal para homens é de 54.69\n",
      "Peso idela para mulheres é de 51.56\n"
     ]
    }
   ],
   "source": [
    "altura = float(input('Informe a sua altura: '))\n",
    "\n",
    "peso_ideal_homens = round((72.7 * altura) - 58, 2)\n",
    "peso_ideal_mulheres = round((62.1 * altura) - 44.7, 2)\n",
    "\n",
    "print(f'Peso ideal para homens é de {peso_ideal_homens}')\n",
    "print(f'Peso idela para mulheres é de {peso_ideal_mulheres}')"
   ]
  },
  {
   "cell_type": "markdown",
   "id": "f208ef89",
   "metadata": {
    "id": "f208ef89"
   },
   "source": [
    "#### 12. Faça um Programa que pergunte quanto você ganha por hora e o número de horas trabalhadas no mês."
   ]
  },
  {
   "cell_type": "code",
   "execution_count": 24,
   "id": "2d5b23e0",
   "metadata": {
    "id": "2d5b23e0"
   },
   "outputs": [
    {
     "name": "stdin",
     "output_type": "stream",
     "text": [
      "Quando voce ganha por horas trabalhadas? 10\n",
      "Informe o numero de horas trabalhadas no mes 400\n"
     ]
    },
    {
     "name": "stdout",
     "output_type": "stream",
     "text": [
      "Seus ganhos por hora são de 10.0.\n",
      "O total de horas trabalhadas no mes é de 400.0.\n"
     ]
    }
   ],
   "source": [
    "ganhos_por_hora = float(input('Quando voce ganha por horas trabalhadas?'))\n",
    "numero_horas_trabalhadas = float(input('Informe o numero de horas trabalhadas no mes'))\n",
    "\n",
    "print(f'Seus ganhos por hora são de {ganhos_por_hora}.')\n",
    "print(f'O total de horas trabalhadas no mes é de {numero_horas_trabalhadas}.')"
   ]
  },
  {
   "cell_type": "markdown",
   "id": "607dee3c",
   "metadata": {
    "id": "607dee3c"
   },
   "source": [
    "#####  Calcule o salário bruto (horas * salario por hora)"
   ]
  },
  {
   "cell_type": "code",
   "execution_count": 25,
   "id": "7f80ccbb",
   "metadata": {
    "id": "7f80ccbb"
   },
   "outputs": [
    {
     "name": "stdout",
     "output_type": "stream",
     "text": [
      "4000.0\n"
     ]
    }
   ],
   "source": [
    "salario_bruto = numero_horas_trabalhadas * ganhos_por_hora\n",
    "print(salario_bruto)"
   ]
  },
  {
   "cell_type": "markdown",
   "id": "2ed93cb0",
   "metadata": {
    "id": "2ed93cb0"
   },
   "source": [
    "##### Calcule o desconto do IR (11% do salário bruto)"
   ]
  },
  {
   "cell_type": "code",
   "execution_count": 26,
   "id": "3363e22f",
   "metadata": {
    "id": "3363e22f"
   },
   "outputs": [
    {
     "name": "stdout",
     "output_type": "stream",
     "text": [
      "440.0\n"
     ]
    }
   ],
   "source": [
    "imposto_renda = 0.11 * salario_bruto\n",
    "print(imposto_renda)"
   ]
  },
  {
   "cell_type": "markdown",
   "id": "0994b2c0",
   "metadata": {
    "id": "0994b2c0"
   },
   "source": [
    "##### Calcule o desconto do INSS (8% do salário bruto)"
   ]
  },
  {
   "cell_type": "code",
   "execution_count": 27,
   "id": "748c6088",
   "metadata": {
    "id": "748c6088"
   },
   "outputs": [
    {
     "name": "stdout",
     "output_type": "stream",
     "text": [
      "320.0\n"
     ]
    }
   ],
   "source": [
    "desconto_inss = 0.08 * salario_bruto\n",
    "print(desconto_inss)"
   ]
  },
  {
   "cell_type": "markdown",
   "id": "06e8dae4",
   "metadata": {
    "id": "06e8dae4"
   },
   "source": [
    "##### Calcule o desconto do sindicato (5% do salário bruto)"
   ]
  },
  {
   "cell_type": "code",
   "execution_count": 28,
   "id": "21b95b15",
   "metadata": {
    "id": "21b95b15",
    "scrolled": true
   },
   "outputs": [
    {
     "name": "stdout",
     "output_type": "stream",
     "text": [
      "200.0\n"
     ]
    }
   ],
   "source": [
    "desconto_sindicato = 0.05 * salario_bruto\n",
    "print(desconto_sindicato)"
   ]
  },
  {
   "cell_type": "markdown",
   "id": "bb14ce36",
   "metadata": {
    "id": "bb14ce36"
   },
   "source": [
    "##### Calcule o salário líquido (salário bruto - descontos)"
   ]
  },
  {
   "cell_type": "code",
   "execution_count": 30,
   "id": "56317086",
   "metadata": {
    "id": "56317086"
   },
   "outputs": [
    {
     "name": "stdout",
     "output_type": "stream",
     "text": [
      "3040.0\n",
      "960.0\n"
     ]
    }
   ],
   "source": [
    "descontos = desconto_inss + desconto_sindicato + imposto_renda\n",
    "salario_liquido = salario_bruto - descontos\n",
    "print(salario_liquido)\n",
    "print(descontos)"
   ]
  },
  {
   "cell_type": "markdown",
   "id": "cfbfcc87",
   "metadata": {
    "id": "cfbfcc87"
   },
   "source": [
    "#### 13. Faça um programa para uma loja de tintas. O programa deverá pedir o tamanho em metros quadrados da área a ser pintada. Considere que a cobertura da tinta é de 1 litro para cada 3 metros quadrados e que a tinta é vendida em latas de 18 litros, que custam R\\$ 80,00. Informe ao usuário a quantidades de latas de tinta a serem compradas e o preço total. (para simplificação nesse momento, não se preocupe em arredondar a quantidade de latas a serem compradas - vamos trabalhar isso em breve)"
   ]
  },
  {
   "cell_type": "code",
   "execution_count": 40,
   "id": "fb6a083b",
   "metadata": {
    "id": "fb6a083b"
   },
   "outputs": [
    {
     "name": "stdin",
     "output_type": "stream",
     "text": [
      "Informe o metro quadrado da area a ser pintada (em metros):  30\n"
     ]
    },
    {
     "name": "stdout",
     "output_type": "stream",
     "text": [
      "Serao necessarios 0.5555555555555556 latas e o preco total sera de 44.44444444444444R$\n"
     ]
    }
   ],
   "source": [
    "area_pintada = float(input('Informe o metro quadrado da area a ser pintada (em metros): '))\n",
    "qtd_litros_necessarios = area_pintada / 3\n",
    "qtd_latas = (qtd_litros_necessarios / 18)\n",
    "preco_total = qtd_latas * 80.00\n",
    "\n",
    "print(f'Serao necessarios {qtd_latas} latas e o preco total sera de {preco_total}R$')\n"
   ]
  },
  {
   "cell_type": "markdown",
   "id": "d6503c92",
   "metadata": {
    "id": "d6503c92"
   },
   "source": [
    "#### 14. Faça um programa que peça o tamanho de um arquivo para download (em MB) e a velocidade de um link de Internet (em Mbps), calcule e informe o tempo aproximado de download do arquivo usando este link (em minutos).\n",
    "\n",
    "Detalhe: MB significa megabyte, Mb (com b minúsculo) significa megabit. Um megabit é 1/8 de um megabyte. "
   ]
  },
  {
   "cell_type": "code",
   "execution_count": 46,
   "id": "0563aa62",
   "metadata": {
    "id": "0563aa62"
   },
   "outputs": [
    {
     "name": "stdin",
     "output_type": "stream",
     "text": [
      "Informe o tamanho do arquivo para download (em MB):  4000\n",
      "Informe a velocidade do link de internet (em Mbps):  100\n"
     ]
    },
    {
     "name": "stdout",
     "output_type": "stream",
     "text": [
      "O tempo aproximado de download do arquivo em minutos utilizando esse link será de 0.67 minutos\n"
     ]
    }
   ],
   "source": [
    "tamanho_arqv = float(input('Informe o tamanho do arquivo para download (em MB): '))\n",
    "vel_link_internet = float(input('Informe a velocidade do link de internet (em Mbps): '))\n",
    "\n",
    "tempo_aproximado_download = (tamanho_arqv / vel_link_internet) / 60\n",
    "\n",
    "print(f'O tempo aproximado de download do arquivo em minutos utilizando esse link será de {tempo_aproximado_download:.2f} minutos')"
   ]
  },
  {
   "cell_type": "code",
   "execution_count": null,
   "id": "b88c027a-9cb9-48a7-9667-825b78a4f5e7",
   "metadata": {},
   "outputs": [],
   "source": []
  }
 ],
 "metadata": {
  "colab": {
   "provenance": []
  },
  "kernelspec": {
   "display_name": "Python 3 (ipykernel)",
   "language": "python",
   "name": "python3"
  },
  "language_info": {
   "codemirror_mode": {
    "name": "ipython",
    "version": 3
   },
   "file_extension": ".py",
   "mimetype": "text/x-python",
   "name": "python",
   "nbconvert_exporter": "python",
   "pygments_lexer": "ipython3",
   "version": "3.13.5"
  }
 },
 "nbformat": 4,
 "nbformat_minor": 5
}
