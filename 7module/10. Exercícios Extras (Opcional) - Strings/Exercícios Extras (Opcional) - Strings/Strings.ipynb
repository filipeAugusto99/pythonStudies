{
 "cells": [
  {
   "cell_type": "markdown",
   "id": "2b04bbea",
   "metadata": {},
   "source": [
    "# Strings\n",
    "\n",
    "<span style=\"color: red;\"><b>Todos os exercícios são feitos partindo-se do pressuposto de que todas as entradas são dadas de forma correta. Casos limite não mencionados no enunciado não são abordados porque não fazem parte do exercício.</b></span>"
   ]
  },
  {
   "cell_type": "markdown",
   "id": "5b1f33b9",
   "metadata": {},
   "source": [
    "#### 1. Tamanho de strings. Faça um programa que leia 2 strings e informe o conteúdo delas seguido do seu comprimento. Informe também se as duas strings possuem o mesmo comprimento e são iguais ou diferentes no conteúdo.\n",
    "<pre>\n",
    "Compara duas strings\n",
    "String 1: Brasil Hexa 2006\n",
    "String 2: Brasil! Hexa 2006!\n",
    "Tamanho de \"Brasil Hexa 2006\": 16 caracteres\n",
    "Tamanho de \"Brasil! Hexa 2006!\": 18 caracteres\n",
    "As duas strings são de tamanhos diferentes.\n",
    "As duas strings possuem conteúdo diferente.\n",
    "</pre>"
   ]
  },
  {
   "cell_type": "code",
   "execution_count": 8,
   "id": "c492b657",
   "metadata": {},
   "outputs": [
    {
     "name": "stdin",
     "output_type": "stream",
     "text": [
      "Informe a primeira string:  Brasil hexa\n",
      "Informe a segunda string:  Brasil Hexa   \n"
     ]
    },
    {
     "name": "stdout",
     "output_type": "stream",
     "text": [
      "Tamanho de 'brasil hexa': 11\n",
      "Tamanho de 'brasil hexa': 11\n",
      "As duas strings sao de tamanhos iguais\n",
      "As duas strings possuem conteúdo iguais\n"
     ]
    }
   ],
   "source": [
    "string_um = input('Informe a primeira string: ').strip().lower()\n",
    "string_dois = input('Informe a segunda string: ').strip().lower()\n",
    "\n",
    "tamanho_string_um = len(string_um)\n",
    "tamanho_string_dois = len(string_dois)\n",
    "\n",
    "print(f\"Tamanho de '{string_um}': {tamanho_string_um}\")\n",
    "print(f\"Tamanho de '{string_dois}': {tamanho_string_dois}\")\n",
    "\n",
    "if tamanho_string_um == tamanho_string_dois:\n",
    "    print('As duas strings sao de tamanhos iguais')\n",
    "else:\n",
    "    print('As duas strings são de tamanhos diferentes')\n",
    "\n",
    "if string_um != string_dois:\n",
    "    print('As duas strings possuem conteúdo diferente.')\n",
    "else:\n",
    "    print('As duas strings possuem conteúdo iguais')\n"
   ]
  },
  {
   "cell_type": "markdown",
   "id": "c3068a53",
   "metadata": {},
   "source": [
    "#### 2. Valida e corrige número de telefone. Faça um programa que leia um número de telefone, e corrija o número no caso deste conter somente 7 dígitos, acrescentando o '3' na frente. O usuário pode informar o número com ou sem o traço separador.\n",
    "<pre>\n",
    "Valida e corrige número de telefone\n",
    "Telefone: 461-0133\n",
    "Telefone possui 7 dígitos. Vou acrescentar o digito três na frente.\n",
    "Telefone corrigido sem formatação: 34610133\n",
    "Telefone corrigido com formatação: 3461-0133\n",
    "</pre>"
   ]
  },
  {
   "cell_type": "code",
   "execution_count": null,
   "id": "0308566d",
   "metadata": {},
   "outputs": [],
   "source": [
    "input_numero_telefone = input('Informe o numero de telefone: ')\n",
    "\n",
    "input_numero_telefone = input_numero_telefone.replace('-', '')\n",
    "\n",
    "if len(input_numero_telefone) == 7:\n",
    "    print('Telefone possui 7 digitos. Vou acrescentar o digito 9 na frente.')\n",
    "    input_numero_telefone = '9' + input_numero_telefone\n",
    "    print(f'Telefone corrigido sem formatacao: {input_numero_telefone}')\n",
    "    print(f'Telefone corrigido comformatacao: {input_numero_telefone[:4]} - {input_numero_telefone[4:]}')\n",
    "    \n",
    "else:\n",
    "    print('O telefone nao possui 7 digitos.')\n",
    "   "
   ]
  }
 ],
 "metadata": {
  "kernelspec": {
   "display_name": "Python 3 (ipykernel)",
   "language": "python",
   "name": "python3"
  },
  "language_info": {
   "codemirror_mode": {
    "name": "ipython",
    "version": 3
   },
   "file_extension": ".py",
   "mimetype": "text/x-python",
   "name": "python",
   "nbconvert_exporter": "python",
   "pygments_lexer": "ipython3",
   "version": "3.13.5"
  }
 },
 "nbformat": 4,
 "nbformat_minor": 5
}
