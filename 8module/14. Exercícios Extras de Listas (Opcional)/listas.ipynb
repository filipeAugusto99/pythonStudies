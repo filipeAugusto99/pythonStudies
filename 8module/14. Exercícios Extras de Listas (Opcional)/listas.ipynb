{
 "cells": [
  {
   "cell_type": "markdown",
   "metadata": {},
   "source": [
    "### Exercício 1\n",
    "### Crie um sistema de cadastro de produtos em uma lista de produtos\n",
    "Seu sistema deve:\n",
    "- Pegar o usuário qual produto vai ser cadastrado por meio de um input\n",
    "- Garantir que se o usuário escrever com letra maiúscula ou minúscula, o produto continua sendo o mesmo produto\n",
    "- Se o usuário inserir um produto que já existe na lista, o programa deve printar a mensagem \"Produto já existente, tente novamente\"\n",
    "- Se o usuário inserir um produto que não existe na lista, o programa deve inserir na lista, printar a mensagem Produto X cadastrado com sucesso e em seguida printar a lista completa"
   ]
  },
  {
   "cell_type": "code",
   "execution_count": 27,
   "metadata": {},
   "outputs": [
    {
     "name": "stdin",
     "output_type": "stream",
     "text": [
      "Digite o nome do produto que será cadastrado:  AMENDOIN\n"
     ]
    },
    {
     "name": "stdout",
     "output_type": "stream",
     "text": [
      "Produto amendoin cadastrado com sucesso.\n",
      "['celular', 'camera', 'fone de ouvido', 'monitor', 'amendoin']\n"
     ]
    }
   ],
   "source": [
    "produtos = [\"celular\", \"camera\", \"fone de ouvido\", \"monitor\"]\n",
    "\n",
    "cadastrar_produto = input('Digite o nome do produto que será cadastrado: ')\n",
    "cadastrar_produto = cadastrar_produto.casefold()\n",
    "\n",
    "if cadastrar_produto not in produtos:\n",
    "    produtos.append(cadastrar_produto)\n",
    "    print(f'Produto {cadastrar_produto} cadastrado com sucesso.')\n",
    "    print(produtos)\n",
    "else:\n",
    "    print('Produto já existente, tente novamente!')"
   ]
  },
  {
   "cell_type": "markdown",
   "metadata": {},
   "source": [
    "### Exercício 2\n",
    "#### Crie um sistema de consulta de preços\n",
    "Seu sistema deve:\n",
    "- Pedir para o usuário o nome de um produto\n",
    "- Caso o produto exista na lista de produtos, o programa deve retornar o preço do produto como resposta\n",
    "       - Ex: O produto celular custa R$1500\n",
    "- Caso o produto não exista na lista de produtos, o programa deve printar uma mensagem para o usuário tentar novamente\n"
   ]
  },
  {
   "cell_type": "code",
   "execution_count": 23,
   "metadata": {},
   "outputs": [
    {
     "name": "stdin",
     "output_type": "stream",
     "text": [
      "Digite o nome do produto:  CELULAR\n"
     ]
    },
    {
     "name": "stdout",
     "output_type": "stream",
     "text": [
      "O produto celular custa1500\n"
     ]
    }
   ],
   "source": [
    "produtos = [\"celular\", \"camera\", \"fone de ouvido\", \"monitor\"]\n",
    "precos = [1500, 1000, 800, 2000]\n",
    "\n",
    "nome_produto = input('Digite o nome do produto: ')\n",
    "nome_produto = nome_produto.lower()\n",
    "\n",
    "if nome_produto in produtos:\n",
    "    index_produto = produtos.index(nome_produto)\n",
    "    print(f'O produto {nome_produto} custa {precos[index_produto]}')"
   ]
  },
  {
   "cell_type": "markdown",
   "metadata": {},
   "source": [
    "### Exercício 3\n",
    "#### Crie um sistema de consulta de bônus dos funcionários\n",
    "Seu sistema deve:\n",
    "- Pegar o valor de vendas do funcinoário por meio de um input\n",
    "- Calcular o bônus do funcionário de acordo com a seguinte regra:\n",
    "      - Se o funcionário vendeu mais de 1000 unidades, ele ganha R$2 de bonus para cada unidade vendida\n",
    "      - Se o funcionário vendeu mais de 5000 unidades, ele ganha R$2 de bônus para cada unidade + um valor fixo de R$1000\n",
    "      - Se o funcionário vendeu menos de 1000 unidades, ele não ganha bônus\n",
    "- Printar no final o valor do bônus do funcionário\n"
   ]
  },
  {
   "cell_type": "code",
   "execution_count": 6,
   "metadata": {},
   "outputs": [
    {
     "name": "stdin",
     "output_type": "stream",
     "text": [
      "Digite o valor de vendas:  5000\n"
     ]
    },
    {
     "name": "stdout",
     "output_type": "stream",
     "text": [
      "O bonus foi de 10000.0\n"
     ]
    }
   ],
   "source": [
    "valor_vendas = float(input('Digite o valor de vendas: '))\n",
    "\n",
    "if valor_vendas > 1000:\n",
    "    bonus = valor_vendas * 2\n",
    "elif valor_vendas > 5000:\n",
    "    bonus = (valor_vendas * 2) + 1000\n",
    "else:\n",
    "    bonus = 0\n",
    "\n",
    "print(f'O bonus foi de {bonus}')"
   ]
  },
  {
   "cell_type": "markdown",
   "metadata": {},
   "source": [
    "### Exercício 4\n",
    "Crie um programa que consiga descobrir qual dos vendedores vendeu mais\n",
    "<br>As vendas dos vendedores são listas com a quantidade vendida por cada vendedor"
   ]
  },
  {
   "cell_type": "code",
   "execution_count": 2,
   "metadata": {},
   "outputs": [],
   "source": [
    "vendas = [\n",
    "    [10, 20, 100, 80, 90, 100, 20, 30, 44, 55, 33, 34, 100, 90, 80, 39, 87, 45, 50, 50, 50, 50, 40, 30, 3, 93, 39, 49, 88],    \n",
    "    [100, 1, 1, 4, 5, 90, 100, 20, 4, 5, 100, 100, 100, 100, 100, 93, 20, 15, 40, 90, 90, 90, 90, 90, 90, 33, 22, 44, 43, 34],\n",
    "]"
   ]
  },
  {
   "cell_type": "code",
   "execution_count": 4,
   "metadata": {},
   "outputs": [
    {
     "name": "stdout",
     "output_type": "stream",
     "text": [
      "O vendedor 2 vendeu mais que o vendedor 1 com um total de: 1714 quantidade de itens vendidos\n"
     ]
    }
   ],
   "source": [
    "soma_vendedor1 = sum(vendas[0])\n",
    "soma_vendedor2 = sum(vendas[1])\n",
    "\n",
    "if soma_vendedor1 > soma_vendedor2:\n",
    "    print(f'O vendedor 1 vendeu mais que o vendedor 2 com um total de: {soma_vendedor1} quantidade de itens vendidos')\n",
    "else:\n",
    "    print(f'O vendedor 2 vendeu mais que o vendedor 1 com um total de: {soma_vendedor2} quantidade de itens vendidos')"
   ]
  }
 ],
 "metadata": {
  "kernelspec": {
   "display_name": "\"Python/Mu (mu_venv-38-20250222-131111)\"",
   "language": "python",
   "name": "mu_venv-38-20250222-131111"
  },
  "language_info": {
   "codemirror_mode": {
    "name": "ipython",
    "version": 3
   },
   "file_extension": ".py",
   "mimetype": "text/x-python",
   "name": "python",
   "nbconvert_exporter": "python",
   "pygments_lexer": "ipython3",
   "version": "3.8.12"
  }
 },
 "nbformat": 4,
 "nbformat_minor": 4
}
