{
 "cells": [
  {
   "cell_type": "markdown",
   "metadata": {},
   "source": [
    "## Oferecendo desconto para cliente com base na última compra\n",
    "\n",
    "Suponha que você está trabalhando para uma empresa que deseja rastrear a atividade do cliente. Uma métrica que eles estão interessados é o tempo que passou desde a última transação do cliente (25 de julho de 2025). Se for muito tempo, eles podem oferecer um desconto para o cliente. Crie um script Python que mostra quanto tempo se passou desde a última compra do cliente. Se faz mais de 30 dias, mostre uma mensagem oferecendo um desconto para o cliente."
   ]
  },
  {
   "cell_type": "code",
   "execution_count": 3,
   "metadata": {},
   "outputs": [
    {
     "name": "stdout",
     "output_type": "stream",
     "text": [
      "Cliente ganha desconto\n"
     ]
    }
   ],
   "source": [
    "from datetime import datetime\n",
    "\n",
    "ultima_compra = datetime(2025, 7, 25)\n",
    "\n",
    "data_atual = datetime.now()\n",
    "\n",
    "diferenca_entre_datas = data_atual - ultima_compra\n",
    "\n",
    "if diferenca_entre_datas.days >= 30:\n",
    "    print('Cliente ganha desconto')\n",
    "else:\n",
    "    print('Cliente nao ganha desconto')"
   ]
  },
  {
   "cell_type": "markdown",
   "metadata": {},
   "source": [
    "## Data e hora em diferentes fusos horários\n",
    "\n",
    "Uma empresa tem escritórios em São Paulo, Nova York e Tóquio. Crie um script Python que mostra a data e hora atuais nesses três fusos horários. Exiba, também, se estes escritórios estão abertos ou fechados (9h às 17h).\n"
   ]
  },
  {
   "cell_type": "code",
   "execution_count": 5,
   "metadata": {},
   "outputs": [
    {
     "name": "stdout",
     "output_type": "stream",
     "text": [
      "2025-09-10 20:12:06.487247\n"
     ]
    }
   ],
   "source": [
    "from datetime import datetime\n",
    "from zoneinfo import ZoneInfo\n",
    "\n",
    "#Obtendo a data e a hora atual\n",
    "data_hora_atual = datetime.now()"
   ]
  },
  {
   "cell_type": "code",
   "execution_count": 9,
   "metadata": {},
   "outputs": [
    {
     "name": "stdout",
     "output_type": "stream",
     "text": [
      "Data/hora em São Paulo: 2025-09-10 20:12:06.487247-03:00\n",
      "Data/hora em Nova York: 2025-09-10 19:12:06.487247-04:00\n",
      "Data/hora em Tóquio: 2025-09-11 08:12:06.487247+09:00\n"
     ]
    }
   ],
   "source": [
    "#Obtém os fuso horários de cada região\n",
    "fuso_horario_sao_paulo = ZoneInfo(\"America/Sao_Paulo\")\n",
    "fuso_horario_ny = ZoneInfo(\"America/New_York\")\n",
    "fuso_horario_toquio = ZoneInfo(\"Asia/Tokyo\")\n",
    "\n",
    "#faz a conversão dos fuso horarios\n",
    "data_hora_sao_paulo = data_hora_atual.astimezone(fuso_horario_sao_paulo)\n",
    "data_hora_ny = data_hora_atual.astimezone(fuso_horario_ny)\n",
    "data_hora_toquio = data_hora_atual.astimezone(fuso_horario_toquio)\n",
    "\n",
    "print(f\"Data/hora em São Paulo: {data_hora_sao_paulo}\")\n",
    "print(f\"Data/hora em Nova York: {data_hora_ny}\")\n",
    "print(f\"Data/hora em Tóquio: {data_hora_toquio}\")"
   ]
  },
  {
   "cell_type": "code",
   "execution_count": 15,
   "metadata": {},
   "outputs": [
    {
     "name": "stdout",
     "output_type": "stream",
     "text": [
      "Escritório de São Paulo está fechado.\n",
      "Escritório de New York está fechado.\n",
      "Escritorio de Tokyo está aberto.\n"
     ]
    }
   ],
   "source": [
    "#Funcao que verifica se determinada empresa está aberta ou fechada baseada nas datas e horas atuais\n",
    "def verifica_horario(data_hora):\n",
    "    if 8 <= data_hora.hour < 17:\n",
    "        return \"aberto\"\n",
    "    else:\n",
    "        return \"fechado\"\n",
    "\n",
    "print(f\"Escritório de São Paulo está {verifica_horario(data_hora_sao_paulo)}.\")\n",
    "print(f\"Escritório de New York está {verifica_horario(data_hora_ny)}.\")\n",
    "print(f\"Escritorio de Tokyo está {verifica_horario(data_hora_toquio)}.\")"
   ]
  }
 ],
 "metadata": {
  "kernelspec": {
   "display_name": "Python 3 (ipykernel)",
   "language": "python",
   "name": "python3"
  },
  "language_info": {
   "codemirror_mode": {
    "name": "ipython",
    "version": 3
   },
   "file_extension": ".py",
   "mimetype": "text/x-python",
   "name": "python",
   "nbconvert_exporter": "python",
   "pygments_lexer": "ipython3",
   "version": "3.13.5"
  }
 },
 "nbformat": 4,
 "nbformat_minor": 4
}
