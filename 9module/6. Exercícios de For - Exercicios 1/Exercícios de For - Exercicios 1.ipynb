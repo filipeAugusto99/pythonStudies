{
 "cells": [
  {
   "cell_type": "markdown",
   "metadata": {},
   "source": [
    "# Exercícios\n",
    "\n",
    "## 1. Criando um Registro de Hóspedes\n",
    "\n",
    "Digamos que você está criando o sistema para registrar a chegada de hóspedes em um hotel. No hotel, os hóspedes podem ter quartos com 1, 2, 3 e 4 pessoas. Seu sistema deve conseguir:\n",
    "\n",
    "1. Identificar quantas pessoas o hóspede que acabou de chegar vai ter no quarto (perguntando por meio de input)\n",
    "2. De acordo com a quantidade de pessoas do hóspede, ele deve fazer um for para perguntar o cpf e o nome de cada pessoa, a fim de registrá-la no quarto (2 inputs para cada pessoa, 1 para o cpf e outro para o nome)\n",
    "3. O seu programa então deve gerar uma lista com todas as pessoas que ficarão no quarto em que cada item dessa lista é o nome da pessoa e o cpf da pessoa, assim:"
   ]
  },
  {
   "cell_type": "raw",
   "metadata": {},
   "source": [
    "quarto = [\n",
    "    ['João', 'cpf:00000000000'],\n",
    "    ['Julia', 'cpf:11111111111'],\n",
    "    ['Marcus', 'cpf:22222222222'],\n",
    "    ['Maria', 'cpf:33333333333'],\n",
    "]"
   ]
  },
  {
   "cell_type": "markdown",
   "metadata": {},
   "source": [
    "- Para simplificar, não vamos nos preocupar com possibilidades de \"tentar colocar mais de 1 hóspede, digitar o cpf errado, etc. Nosso objetivo é treinar a criação de uma rotina de cadastro"
   ]
  },
  {
   "cell_type": "code",
   "execution_count": 19,
   "metadata": {},
   "outputs": [
    {
     "name": "stdin",
     "output_type": "stream",
     "text": [
      "Quantas pessoas vao estar no quarto? 2\n",
      "Digite o seu nome:  Filipe\n",
      "Digite o seu CPF: 12821433441\n",
      "Digite o seu nome:  Ana\n",
      "Digite o seu CPF: 992222222\n"
     ]
    },
    {
     "name": "stdout",
     "output_type": "stream",
     "text": [
      "[['Filipe', 12821433441], ['Ana', 992222222]]\n"
     ]
    }
   ],
   "source": [
    "quarto = []\n",
    "\n",
    "qtd_pessoas_no_quarto = int(input(\"Quantas pessoas vao estar no quarto?\"))\n",
    "\n",
    "for pessoa in range(qtd_pessoas_no_quarto):\n",
    "    nome = input('Digite o seu nome: ')\n",
    "    cpf = int(input('Digite o seu CPF:'))\n",
    "    quarto.append([nome, cpf])\n",
    "\n",
    "print(quarto)\n"
   ]
  },
  {
   "cell_type": "markdown",
   "metadata": {},
   "source": [
    "## 2. Análise de Vendas\n",
    "\n",
    "Nesse exercício vamos fazer uma \"análise simples\" de atingimento de Meta.\n",
    "\n",
    "Temos uma lista com os vendedores e os valores de vendas e queremos identificar (printar) quais os vendedores que bateram a meta e qual foi o valor que eles venderam."
   ]
  },
  {
   "cell_type": "code",
   "execution_count": 9,
   "metadata": {},
   "outputs": [
    {
     "name": "stdout",
     "output_type": "stream",
     "text": [
      "O vendedor João bateu a meta e vendeu 15000\n",
      "O vendedor Julia bateu a meta e vendeu 27000\n",
      "O vendedor Ana bateu a meta e vendeu 10300\n"
     ]
    }
   ],
   "source": [
    "meta = 10000\n",
    "vendas = [\n",
    "    ['João', 15000],\n",
    "    ['Julia', 27000],\n",
    "    ['Marcus', 9900],\n",
    "    ['Maria', 3750],\n",
    "    ['Ana', 10300],\n",
    "    ['Alon', 7870],\n",
    "]\n",
    "\n",
    "for venda in vendas:\n",
    "    if venda[1] >= meta:\n",
    "        print(f'O vendedor {venda[0]} bateu a meta e vendeu {venda[1]}')"
   ]
  },
  {
   "cell_type": "markdown",
   "metadata": {},
   "source": [
    "\n",
    "## 3. Comparação com Ano Anterior\n",
    "\n",
    "Digamos que você está analisando as vendas de produtos de um ecommerce e quer identificar quais produtos tiveram no ano de 2020 mais vendas do que no ano de 2019, para reportar isso para a diretoria.\n",
    "\n",
    "Sua resposta pode ser um print de cada produto, qual foi a venda de 2019, a venda de 2020 e o % de crescimento de 2020 para 2019.\n",
    "\n",
    "Lembrando, para calcular o % de crescimento de um produto de um ano para o outro, podemos fazer: (vendas_produto2020/vendas_produto2019 - 1)\n",
    "\n",
    "Dica: lembre do enumerate, ele pode facilitar seu \"for\""
   ]
  },
  {
   "cell_type": "code",
   "execution_count": 14,
   "metadata": {},
   "outputs": [
    {
     "name": "stdout",
     "output_type": "stream",
     "text": [
      "iphone vendeu R$558,147 em 2019, R$95164200.0% em 2020 e teve 0.7050024455922903 de crescimento\n",
      "tv vendeu R$405,252 em 2019, R$78760400.0% em 2020 e teve 0.9434919506874735 de crescimento\n",
      "máquina de café vendeu R$718,654 em 2019, R$86766000.0% em 2020 e teve 0.20734038911632013 de crescimento\n",
      "notebook dell vendeu R$422,760 em 2019, R$69491300.0% em 2020 e teve 0.6437529567603368 de crescimento\n",
      "notebook hp vendeu R$154,753 em 2019, R$53970400.0% em 2020 e teve 2.487518820313661 de crescimento\n",
      "microsoft surface vendeu R$438,508 em 2019, R$66717900.0% em 2020 e teve 0.5214750928147263 de crescimento\n",
      "webcam vendeu R$237,467 em 2019, R$29563300.0% em 2020 e teve 0.2449435079400506 de crescimento\n",
      "caixa de som vendeu R$489,705 em 2019, R$72531600.0% em 2020 e teve 0.4811284344656477 de crescimento\n",
      "microfone vendeu R$328,311 em 2019, R$64462200.0% em 2020 e teve 0.963449290459351 de crescimento\n",
      "câmera canon vendeu R$591,120 em 2019, R$99430300.0% em 2020 e teve 0.6820662471241035 de crescimento\n"
     ]
    }
   ],
   "source": [
    "produtos = ['iphone', 'galaxy', 'ipad', 'tv', 'máquina de café', 'kindle', 'geladeira', 'adega', 'notebook dell', 'notebook hp', 'notebook asus', 'microsoft surface', 'webcam', 'caixa de som', 'microfone', 'câmera canon']\n",
    "vendas2019 = [558147,712350,573823,405252,718654,531580,973139,892292,422760,154753,887061,438508,237467,489705,328311,591120]\n",
    "vendas2020 = [951642,244295,26964,787604,867660,78830,710331,646016,694913,539704,324831,667179,295633,725316,644622,994303]\n",
    "\n",
    "for i, produto in enumerate(produtos):\n",
    "    if vendas2020[i] > vendas2019[i]:\n",
    "        crescimento = vendas2020[i] / vendas2019[i] - 1\n",
    "        print(f'{produto} vendeu R${vendas2019[i]:,} em 2019, R${vendas2020[i]:,} em 2020 e teve {crescimento:.1%} de crescimento')"
   ]
  },
  {
   "cell_type": "code",
   "execution_count": null,
   "metadata": {},
   "outputs": [],
   "source": []
  }
 ],
 "metadata": {
  "kernelspec": {
   "display_name": "Python 3 (ipykernel)",
   "language": "python",
   "name": "python3"
  },
  "language_info": {
   "codemirror_mode": {
    "name": "ipython",
    "version": 3
   },
   "file_extension": ".py",
   "mimetype": "text/x-python",
   "name": "python",
   "nbconvert_exporter": "python",
   "pygments_lexer": "ipython3",
   "version": "3.13.5"
  }
 },
 "nbformat": 4,
 "nbformat_minor": 4
}
